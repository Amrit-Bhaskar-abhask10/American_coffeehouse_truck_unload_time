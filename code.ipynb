{
 "cells": [
  {
   "cell_type": "markdown",
   "id": "17810957-3525-4563-a319-ba3eca4a4f37",
   "metadata": {},
   "source": [
    "## Importing libraries"
   ]
  },
  {
   "cell_type": "code",
   "execution_count": 95,
   "id": "3335c8fa-65bf-4aa3-9ee2-6c7bcca6b837",
   "metadata": {},
   "outputs": [],
   "source": [
    "import pandas as pd\n",
    "import numpy as np\n",
    "\n",
    "import xgboost as xgb"
   ]
  },
  {
   "cell_type": "code",
   "execution_count": 46,
   "id": "57033a73-e937-4602-97ad-6af58bdfb06e",
   "metadata": {},
   "outputs": [],
   "source": [
    "# !pip install xgboost"
   ]
  },
  {
   "cell_type": "markdown",
   "id": "1363567a-fe1c-47f9-935e-c26c1dee5464",
   "metadata": {},
   "source": [
    "## Loading data"
   ]
  },
  {
   "cell_type": "code",
   "execution_count": 2,
   "id": "a88a0889-405d-4b7b-afe7-c568cb3768f2",
   "metadata": {},
   "outputs": [],
   "source": [
    "df = pd.read_csv('historical_.routes.txt', sep=\",\")"
   ]
  },
  {
   "cell_type": "code",
   "execution_count": 3,
   "id": "50429328-3ca8-486c-82ce-082d942b42ed",
   "metadata": {},
   "outputs": [
    {
     "data": {
      "text/html": [
       "<div>\n",
       "<style scoped>\n",
       "    .dataframe tbody tr th:only-of-type {\n",
       "        vertical-align: middle;\n",
       "    }\n",
       "\n",
       "    .dataframe tbody tr th {\n",
       "        vertical-align: top;\n",
       "    }\n",
       "\n",
       "    .dataframe thead th {\n",
       "        text-align: right;\n",
       "    }\n",
       "</style>\n",
       "<table border=\"1\" class=\"dataframe\">\n",
       "  <thead>\n",
       "    <tr style=\"text-align: right;\">\n",
       "      <th></th>\n",
       "      <th>DAY_ID</th>\n",
       "      <th>ROUTE_ID</th>\n",
       "      <th>STORE_NUMBER</th>\n",
       "      <th>DAY_OF_WEEK</th>\n",
       "      <th>HELPER</th>\n",
       "      <th>TOTAL_WEIGHT</th>\n",
       "      <th>CASES</th>\n",
       "      <th>URBANITY</th>\n",
       "      <th>UNLOAD_TIME</th>\n",
       "    </tr>\n",
       "  </thead>\n",
       "  <tbody>\n",
       "    <tr>\n",
       "      <th>0</th>\n",
       "      <td>1</td>\n",
       "      <td>1</td>\n",
       "      <td>176</td>\n",
       "      <td>1</td>\n",
       "      <td>False</td>\n",
       "      <td>76.759312</td>\n",
       "      <td>16</td>\n",
       "      <td>U</td>\n",
       "      <td>46.579371</td>\n",
       "    </tr>\n",
       "    <tr>\n",
       "      <th>1</th>\n",
       "      <td>4</td>\n",
       "      <td>1</td>\n",
       "      <td>176</td>\n",
       "      <td>4</td>\n",
       "      <td>False</td>\n",
       "      <td>54.218237</td>\n",
       "      <td>11</td>\n",
       "      <td>U</td>\n",
       "      <td>32.698010</td>\n",
       "    </tr>\n",
       "    <tr>\n",
       "      <th>2</th>\n",
       "      <td>5</td>\n",
       "      <td>2</td>\n",
       "      <td>176</td>\n",
       "      <td>5</td>\n",
       "      <td>False</td>\n",
       "      <td>80.911549</td>\n",
       "      <td>17</td>\n",
       "      <td>U</td>\n",
       "      <td>49.060463</td>\n",
       "    </tr>\n",
       "    <tr>\n",
       "      <th>3</th>\n",
       "      <td>6</td>\n",
       "      <td>5</td>\n",
       "      <td>176</td>\n",
       "      <td>6</td>\n",
       "      <td>False</td>\n",
       "      <td>65.970720</td>\n",
       "      <td>14</td>\n",
       "      <td>U</td>\n",
       "      <td>35.219056</td>\n",
       "    </tr>\n",
       "    <tr>\n",
       "      <th>4</th>\n",
       "      <td>8</td>\n",
       "      <td>4</td>\n",
       "      <td>176</td>\n",
       "      <td>1</td>\n",
       "      <td>False</td>\n",
       "      <td>60.334548</td>\n",
       "      <td>13</td>\n",
       "      <td>U</td>\n",
       "      <td>38.351855</td>\n",
       "    </tr>\n",
       "  </tbody>\n",
       "</table>\n",
       "</div>"
      ],
      "text/plain": [
       "   DAY_ID  ROUTE_ID  STORE_NUMBER  DAY_OF_WEEK  HELPER  TOTAL_WEIGHT  CASES  \\\n",
       "0       1         1           176            1   False     76.759312     16   \n",
       "1       4         1           176            4   False     54.218237     11   \n",
       "2       5         2           176            5   False     80.911549     17   \n",
       "3       6         5           176            6   False     65.970720     14   \n",
       "4       8         4           176            1   False     60.334548     13   \n",
       "\n",
       "  URBANITY  UNLOAD_TIME  \n",
       "0        U    46.579371  \n",
       "1        U    32.698010  \n",
       "2        U    49.060463  \n",
       "3        U    35.219056  \n",
       "4        U    38.351855  "
      ]
     },
     "execution_count": 3,
     "metadata": {},
     "output_type": "execute_result"
    }
   ],
   "source": [
    "df.head()"
   ]
  },
  {
   "cell_type": "markdown",
   "id": "d0d34667-a08d-4d74-93fc-163da667aebf",
   "metadata": {},
   "source": [
    "## Pre-modeling Data Analysis"
   ]
  },
  {
   "cell_type": "code",
   "execution_count": 4,
   "id": "cdc3c3c4-9630-4c75-bd4f-caa6c73a7830",
   "metadata": {},
   "outputs": [
    {
     "name": "stdout",
     "output_type": "stream",
     "text": [
      "<class 'pandas.core.frame.DataFrame'>\n",
      "RangeIndex: 15321 entries, 0 to 15320\n",
      "Data columns (total 9 columns):\n",
      " #   Column        Non-Null Count  Dtype  \n",
      "---  ------        --------------  -----  \n",
      " 0   DAY_ID        15321 non-null  int64  \n",
      " 1   ROUTE_ID      15321 non-null  int64  \n",
      " 2   STORE_NUMBER  15321 non-null  int64  \n",
      " 3   DAY_OF_WEEK   15321 non-null  int64  \n",
      " 4   HELPER        15321 non-null  bool   \n",
      " 5   TOTAL_WEIGHT  15321 non-null  float64\n",
      " 6   CASES         15321 non-null  int64  \n",
      " 7   URBANITY      15321 non-null  object \n",
      " 8   UNLOAD_TIME   15321 non-null  float64\n",
      "dtypes: bool(1), float64(2), int64(5), object(1)\n",
      "memory usage: 972.6+ KB\n"
     ]
    }
   ],
   "source": [
    "df.info()"
   ]
  },
  {
   "cell_type": "code",
   "execution_count": 5,
   "id": "b5f23d5f-8180-4ad1-a9f8-35491a54502b",
   "metadata": {},
   "outputs": [
    {
     "data": {
      "text/html": [
       "<div>\n",
       "<style scoped>\n",
       "    .dataframe tbody tr th:only-of-type {\n",
       "        vertical-align: middle;\n",
       "    }\n",
       "\n",
       "    .dataframe tbody tr th {\n",
       "        vertical-align: top;\n",
       "    }\n",
       "\n",
       "    .dataframe thead th {\n",
       "        text-align: right;\n",
       "    }\n",
       "</style>\n",
       "<table border=\"1\" class=\"dataframe\">\n",
       "  <thead>\n",
       "    <tr style=\"text-align: right;\">\n",
       "      <th></th>\n",
       "      <th>DAY_ID</th>\n",
       "      <th>ROUTE_ID</th>\n",
       "      <th>STORE_NUMBER</th>\n",
       "      <th>DAY_OF_WEEK</th>\n",
       "      <th>TOTAL_WEIGHT</th>\n",
       "      <th>CASES</th>\n",
       "      <th>UNLOAD_TIME</th>\n",
       "    </tr>\n",
       "  </thead>\n",
       "  <tbody>\n",
       "    <tr>\n",
       "      <th>count</th>\n",
       "      <td>15321.000000</td>\n",
       "      <td>15321.000000</td>\n",
       "      <td>15321.000000</td>\n",
       "      <td>15321.000000</td>\n",
       "      <td>15321.000000</td>\n",
       "      <td>15321.000000</td>\n",
       "      <td>15321.000000</td>\n",
       "    </tr>\n",
       "    <tr>\n",
       "      <th>mean</th>\n",
       "      <td>90.229358</td>\n",
       "      <td>4.173422</td>\n",
       "      <td>90.117486</td>\n",
       "      <td>2.998695</td>\n",
       "      <td>55.872456</td>\n",
       "      <td>11.668821</td>\n",
       "      <td>29.163737</td>\n",
       "    </tr>\n",
       "    <tr>\n",
       "      <th>std</th>\n",
       "      <td>51.672604</td>\n",
       "      <td>2.251402</td>\n",
       "      <td>51.981693</td>\n",
       "      <td>1.951534</td>\n",
       "      <td>12.720365</td>\n",
       "      <td>2.560516</td>\n",
       "      <td>9.065642</td>\n",
       "    </tr>\n",
       "    <tr>\n",
       "      <th>min</th>\n",
       "      <td>1.000000</td>\n",
       "      <td>1.000000</td>\n",
       "      <td>1.000000</td>\n",
       "      <td>0.000000</td>\n",
       "      <td>10.000000</td>\n",
       "      <td>2.000000</td>\n",
       "      <td>6.000000</td>\n",
       "    </tr>\n",
       "    <tr>\n",
       "      <th>25%</th>\n",
       "      <td>45.000000</td>\n",
       "      <td>2.000000</td>\n",
       "      <td>45.000000</td>\n",
       "      <td>1.000000</td>\n",
       "      <td>47.347980</td>\n",
       "      <td>10.000000</td>\n",
       "      <td>22.653633</td>\n",
       "    </tr>\n",
       "    <tr>\n",
       "      <th>50%</th>\n",
       "      <td>90.000000</td>\n",
       "      <td>4.000000</td>\n",
       "      <td>90.000000</td>\n",
       "      <td>3.000000</td>\n",
       "      <td>55.905264</td>\n",
       "      <td>12.000000</td>\n",
       "      <td>29.066965</td>\n",
       "    </tr>\n",
       "    <tr>\n",
       "      <th>75%</th>\n",
       "      <td>134.000000</td>\n",
       "      <td>6.000000</td>\n",
       "      <td>135.000000</td>\n",
       "      <td>5.000000</td>\n",
       "      <td>64.463454</td>\n",
       "      <td>13.000000</td>\n",
       "      <td>35.264657</td>\n",
       "    </tr>\n",
       "    <tr>\n",
       "      <th>max</th>\n",
       "      <td>180.000000</td>\n",
       "      <td>9.000000</td>\n",
       "      <td>180.000000</td>\n",
       "      <td>6.000000</td>\n",
       "      <td>100.000000</td>\n",
       "      <td>20.000000</td>\n",
       "      <td>92.782669</td>\n",
       "    </tr>\n",
       "  </tbody>\n",
       "</table>\n",
       "</div>"
      ],
      "text/plain": [
       "             DAY_ID      ROUTE_ID  STORE_NUMBER   DAY_OF_WEEK  TOTAL_WEIGHT  \\\n",
       "count  15321.000000  15321.000000  15321.000000  15321.000000  15321.000000   \n",
       "mean      90.229358      4.173422     90.117486      2.998695     55.872456   \n",
       "std       51.672604      2.251402     51.981693      1.951534     12.720365   \n",
       "min        1.000000      1.000000      1.000000      0.000000     10.000000   \n",
       "25%       45.000000      2.000000     45.000000      1.000000     47.347980   \n",
       "50%       90.000000      4.000000     90.000000      3.000000     55.905264   \n",
       "75%      134.000000      6.000000    135.000000      5.000000     64.463454   \n",
       "max      180.000000      9.000000    180.000000      6.000000    100.000000   \n",
       "\n",
       "              CASES   UNLOAD_TIME  \n",
       "count  15321.000000  15321.000000  \n",
       "mean      11.668821     29.163737  \n",
       "std        2.560516      9.065642  \n",
       "min        2.000000      6.000000  \n",
       "25%       10.000000     22.653633  \n",
       "50%       12.000000     29.066965  \n",
       "75%       13.000000     35.264657  \n",
       "max       20.000000     92.782669  "
      ]
     },
     "execution_count": 5,
     "metadata": {},
     "output_type": "execute_result"
    }
   ],
   "source": [
    "df.describe()"
   ]
  },
  {
   "cell_type": "code",
   "execution_count": 6,
   "id": "f46bd3ca-5522-470f-94ed-002a6c7b039c",
   "metadata": {},
   "outputs": [
    {
     "data": {
      "text/plain": [
       "180"
      ]
     },
     "execution_count": 6,
     "metadata": {},
     "output_type": "execute_result"
    }
   ],
   "source": [
    "df.STORE_NUMBER.nunique()"
   ]
  },
  {
   "cell_type": "code",
   "execution_count": 7,
   "id": "9712f6fd-1f02-457f-8f27-289a27d4895a",
   "metadata": {},
   "outputs": [
    {
     "data": {
      "text/plain": [
       "array([False,  True])"
      ]
     },
     "execution_count": 7,
     "metadata": {},
     "output_type": "execute_result"
    }
   ],
   "source": [
    "df.HELPER.unique()"
   ]
  },
  {
   "cell_type": "code",
   "execution_count": 8,
   "id": "a550cf95-4305-4ee5-b975-9240ae434c47",
   "metadata": {},
   "outputs": [
    {
     "data": {
      "text/plain": [
       "array(['U', 'S', 'X'], dtype=object)"
      ]
     },
     "execution_count": 8,
     "metadata": {},
     "output_type": "execute_result"
    }
   ],
   "source": [
    "df.URBANITY.unique()"
   ]
  },
  {
   "cell_type": "code",
   "execution_count": 9,
   "id": "a3703071-c83e-47d9-9da4-5c807575636c",
   "metadata": {},
   "outputs": [
    {
     "data": {
      "text/plain": [
       "array([1, 2, 5, 4, 6, 7, 9, 8, 3])"
      ]
     },
     "execution_count": 9,
     "metadata": {},
     "output_type": "execute_result"
    }
   ],
   "source": [
    "df.ROUTE_ID.unique()"
   ]
  },
  {
   "cell_type": "code",
   "execution_count": 10,
   "id": "00f7f63a-1934-4604-b8ec-b620d7282ad7",
   "metadata": {},
   "outputs": [
    {
     "data": {
      "text/plain": [
       "ROUTE_ID\n",
       "1    28.873604\n",
       "2    29.393054\n",
       "3    28.722521\n",
       "4    29.249332\n",
       "5    28.777764\n",
       "6    28.910702\n",
       "7    29.489292\n",
       "8    28.883358\n",
       "9    29.331447\n",
       "Name: UNLOAD_TIME, dtype: float64"
      ]
     },
     "execution_count": 10,
     "metadata": {},
     "output_type": "execute_result"
    }
   ],
   "source": [
    "df.groupby('ROUTE_ID')['UNLOAD_TIME'].median()"
   ]
  },
  {
   "cell_type": "code",
   "execution_count": 11,
   "id": "8c5e8381-55fd-4046-9542-c5108395047c",
   "metadata": {},
   "outputs": [
    {
     "data": {
      "text/plain": [
       "ROUTE_ID\n",
       "1    28.939330\n",
       "2    29.525679\n",
       "3    28.939662\n",
       "4    29.269774\n",
       "5    29.251740\n",
       "6    28.973765\n",
       "7    29.304929\n",
       "8    29.053279\n",
       "9    29.280964\n",
       "Name: UNLOAD_TIME, dtype: float64"
      ]
     },
     "execution_count": 11,
     "metadata": {},
     "output_type": "execute_result"
    }
   ],
   "source": [
    "df.groupby('ROUTE_ID')['UNLOAD_TIME'].mean()"
   ]
  },
  {
   "cell_type": "code",
   "execution_count": 12,
   "id": "a33f87aa-a905-4633-a102-01ae6fbac398",
   "metadata": {},
   "outputs": [
    {
     "data": {
      "text/plain": [
       "29.163737173991052"
      ]
     },
     "execution_count": 12,
     "metadata": {},
     "output_type": "execute_result"
    }
   ],
   "source": [
    "df['UNLOAD_TIME'].mean()"
   ]
  },
  {
   "cell_type": "code",
   "execution_count": 13,
   "id": "a765c5e4-6072-43b4-b063-31336109009a",
   "metadata": {},
   "outputs": [
    {
     "data": {
      "text/html": [
       "<div>\n",
       "<style scoped>\n",
       "    .dataframe tbody tr th:only-of-type {\n",
       "        vertical-align: middle;\n",
       "    }\n",
       "\n",
       "    .dataframe tbody tr th {\n",
       "        vertical-align: top;\n",
       "    }\n",
       "\n",
       "    .dataframe thead th {\n",
       "        text-align: right;\n",
       "    }\n",
       "</style>\n",
       "<table border=\"1\" class=\"dataframe\">\n",
       "  <thead>\n",
       "    <tr style=\"text-align: right;\">\n",
       "      <th></th>\n",
       "      <th>STORE_NUMBER</th>\n",
       "      <th>UNLOAD_TIME</th>\n",
       "    </tr>\n",
       "  </thead>\n",
       "  <tbody>\n",
       "    <tr>\n",
       "      <th>128</th>\n",
       "      <td>129</td>\n",
       "      <td>36.384452</td>\n",
       "    </tr>\n",
       "    <tr>\n",
       "      <th>61</th>\n",
       "      <td>62</td>\n",
       "      <td>35.560755</td>\n",
       "    </tr>\n",
       "    <tr>\n",
       "      <th>140</th>\n",
       "      <td>141</td>\n",
       "      <td>35.360932</td>\n",
       "    </tr>\n",
       "    <tr>\n",
       "      <th>107</th>\n",
       "      <td>108</td>\n",
       "      <td>35.164501</td>\n",
       "    </tr>\n",
       "    <tr>\n",
       "      <th>156</th>\n",
       "      <td>157</td>\n",
       "      <td>35.161524</td>\n",
       "    </tr>\n",
       "    <tr>\n",
       "      <th>149</th>\n",
       "      <td>150</td>\n",
       "      <td>34.985500</td>\n",
       "    </tr>\n",
       "    <tr>\n",
       "      <th>103</th>\n",
       "      <td>104</td>\n",
       "      <td>34.777445</td>\n",
       "    </tr>\n",
       "    <tr>\n",
       "      <th>113</th>\n",
       "      <td>114</td>\n",
       "      <td>34.761500</td>\n",
       "    </tr>\n",
       "    <tr>\n",
       "      <th>162</th>\n",
       "      <td>163</td>\n",
       "      <td>34.668502</td>\n",
       "    </tr>\n",
       "    <tr>\n",
       "      <th>26</th>\n",
       "      <td>27</td>\n",
       "      <td>34.624286</td>\n",
       "    </tr>\n",
       "  </tbody>\n",
       "</table>\n",
       "</div>"
      ],
      "text/plain": [
       "     STORE_NUMBER  UNLOAD_TIME\n",
       "128           129    36.384452\n",
       "61             62    35.560755\n",
       "140           141    35.360932\n",
       "107           108    35.164501\n",
       "156           157    35.161524\n",
       "149           150    34.985500\n",
       "103           104    34.777445\n",
       "113           114    34.761500\n",
       "162           163    34.668502\n",
       "26             27    34.624286"
      ]
     },
     "execution_count": 13,
     "metadata": {},
     "output_type": "execute_result"
    }
   ],
   "source": [
    "df.groupby('STORE_NUMBER')['UNLOAD_TIME'].median().reset_index().sort_values('UNLOAD_TIME',ascending=False).head(10)"
   ]
  },
  {
   "cell_type": "code",
   "execution_count": 14,
   "id": "55c57cfe-6017-4ef6-a6fb-14e297da8544",
   "metadata": {},
   "outputs": [
    {
     "data": {
      "text/html": [
       "<div>\n",
       "<style scoped>\n",
       "    .dataframe tbody tr th:only-of-type {\n",
       "        vertical-align: middle;\n",
       "    }\n",
       "\n",
       "    .dataframe tbody tr th {\n",
       "        vertical-align: top;\n",
       "    }\n",
       "\n",
       "    .dataframe thead th {\n",
       "        text-align: right;\n",
       "    }\n",
       "</style>\n",
       "<table border=\"1\" class=\"dataframe\">\n",
       "  <thead>\n",
       "    <tr style=\"text-align: right;\">\n",
       "      <th></th>\n",
       "      <th>STORE_NUMBER</th>\n",
       "      <th>UNLOAD_TIME</th>\n",
       "    </tr>\n",
       "  </thead>\n",
       "  <tbody>\n",
       "    <tr>\n",
       "      <th>62</th>\n",
       "      <td>63</td>\n",
       "      <td>35.033952</td>\n",
       "    </tr>\n",
       "    <tr>\n",
       "      <th>149</th>\n",
       "      <td>150</td>\n",
       "      <td>34.953348</td>\n",
       "    </tr>\n",
       "    <tr>\n",
       "      <th>89</th>\n",
       "      <td>90</td>\n",
       "      <td>34.916043</td>\n",
       "    </tr>\n",
       "    <tr>\n",
       "      <th>103</th>\n",
       "      <td>104</td>\n",
       "      <td>34.884413</td>\n",
       "    </tr>\n",
       "    <tr>\n",
       "      <th>115</th>\n",
       "      <td>116</td>\n",
       "      <td>34.394336</td>\n",
       "    </tr>\n",
       "    <tr>\n",
       "      <th>76</th>\n",
       "      <td>77</td>\n",
       "      <td>34.348347</td>\n",
       "    </tr>\n",
       "    <tr>\n",
       "      <th>47</th>\n",
       "      <td>48</td>\n",
       "      <td>34.309766</td>\n",
       "    </tr>\n",
       "    <tr>\n",
       "      <th>121</th>\n",
       "      <td>122</td>\n",
       "      <td>34.251856</td>\n",
       "    </tr>\n",
       "    <tr>\n",
       "      <th>128</th>\n",
       "      <td>129</td>\n",
       "      <td>34.242381</td>\n",
       "    </tr>\n",
       "    <tr>\n",
       "      <th>69</th>\n",
       "      <td>70</td>\n",
       "      <td>34.136947</td>\n",
       "    </tr>\n",
       "  </tbody>\n",
       "</table>\n",
       "</div>"
      ],
      "text/plain": [
       "     STORE_NUMBER  UNLOAD_TIME\n",
       "62             63    35.033952\n",
       "149           150    34.953348\n",
       "89             90    34.916043\n",
       "103           104    34.884413\n",
       "115           116    34.394336\n",
       "76             77    34.348347\n",
       "47             48    34.309766\n",
       "121           122    34.251856\n",
       "128           129    34.242381\n",
       "69             70    34.136947"
      ]
     },
     "execution_count": 14,
     "metadata": {},
     "output_type": "execute_result"
    }
   ],
   "source": [
    "df.groupby('STORE_NUMBER')['UNLOAD_TIME'].mean().reset_index().sort_values('UNLOAD_TIME',ascending=False).head(10)"
   ]
  },
  {
   "cell_type": "code",
   "execution_count": 15,
   "id": "8240c6d2-1884-4a87-b2d5-db838652d6e7",
   "metadata": {},
   "outputs": [
    {
     "data": {
      "text/html": [
       "<div>\n",
       "<style scoped>\n",
       "    .dataframe tbody tr th:only-of-type {\n",
       "        vertical-align: middle;\n",
       "    }\n",
       "\n",
       "    .dataframe tbody tr th {\n",
       "        vertical-align: top;\n",
       "    }\n",
       "\n",
       "    .dataframe thead th {\n",
       "        text-align: right;\n",
       "    }\n",
       "</style>\n",
       "<table border=\"1\" class=\"dataframe\">\n",
       "  <thead>\n",
       "    <tr style=\"text-align: right;\">\n",
       "      <th></th>\n",
       "      <th>URBANITY</th>\n",
       "      <th>UNLOAD_TIME</th>\n",
       "    </tr>\n",
       "  </thead>\n",
       "  <tbody>\n",
       "    <tr>\n",
       "      <th>1</th>\n",
       "      <td>U</td>\n",
       "      <td>33.264322</td>\n",
       "    </tr>\n",
       "    <tr>\n",
       "      <th>0</th>\n",
       "      <td>S</td>\n",
       "      <td>27.065998</td>\n",
       "    </tr>\n",
       "    <tr>\n",
       "      <th>2</th>\n",
       "      <td>X</td>\n",
       "      <td>20.842417</td>\n",
       "    </tr>\n",
       "  </tbody>\n",
       "</table>\n",
       "</div>"
      ],
      "text/plain": [
       "  URBANITY  UNLOAD_TIME\n",
       "1        U    33.264322\n",
       "0        S    27.065998\n",
       "2        X    20.842417"
      ]
     },
     "execution_count": 15,
     "metadata": {},
     "output_type": "execute_result"
    }
   ],
   "source": [
    "df.groupby('URBANITY')['UNLOAD_TIME'].median().reset_index().sort_values('UNLOAD_TIME',ascending=False).head(10)"
   ]
  },
  {
   "cell_type": "code",
   "execution_count": 16,
   "id": "aba16a25-8918-4a4e-aeca-f6b4de912e47",
   "metadata": {},
   "outputs": [
    {
     "data": {
      "text/html": [
       "<div>\n",
       "<style scoped>\n",
       "    .dataframe tbody tr th:only-of-type {\n",
       "        vertical-align: middle;\n",
       "    }\n",
       "\n",
       "    .dataframe tbody tr th {\n",
       "        vertical-align: top;\n",
       "    }\n",
       "\n",
       "    .dataframe thead th {\n",
       "        text-align: right;\n",
       "    }\n",
       "</style>\n",
       "<table border=\"1\" class=\"dataframe\">\n",
       "  <thead>\n",
       "    <tr style=\"text-align: right;\">\n",
       "      <th></th>\n",
       "      <th>URBANITY</th>\n",
       "      <th>UNLOAD_TIME</th>\n",
       "    </tr>\n",
       "  </thead>\n",
       "  <tbody>\n",
       "    <tr>\n",
       "      <th>1</th>\n",
       "      <td>U</td>\n",
       "      <td>32.868562</td>\n",
       "    </tr>\n",
       "    <tr>\n",
       "      <th>0</th>\n",
       "      <td>S</td>\n",
       "      <td>26.625130</td>\n",
       "    </tr>\n",
       "    <tr>\n",
       "      <th>2</th>\n",
       "      <td>X</td>\n",
       "      <td>20.597517</td>\n",
       "    </tr>\n",
       "  </tbody>\n",
       "</table>\n",
       "</div>"
      ],
      "text/plain": [
       "  URBANITY  UNLOAD_TIME\n",
       "1        U    32.868562\n",
       "0        S    26.625130\n",
       "2        X    20.597517"
      ]
     },
     "execution_count": 16,
     "metadata": {},
     "output_type": "execute_result"
    }
   ],
   "source": [
    "df.groupby('URBANITY')['UNLOAD_TIME'].mean().reset_index().sort_values('UNLOAD_TIME',ascending=False).head(10)"
   ]
  },
  {
   "cell_type": "code",
   "execution_count": 17,
   "id": "1bc845cd-5195-47a6-be52-bfd5f5db5db3",
   "metadata": {},
   "outputs": [],
   "source": [
    "df[\"avg_wt_of_case\"] = df[\"TOTAL_WEIGHT\"]/df[\"CASES\"]"
   ]
  },
  {
   "cell_type": "code",
   "execution_count": 18,
   "id": "57a47723-e813-4dd6-b6e4-f5d4e442c0d6",
   "metadata": {},
   "outputs": [
    {
     "data": {
      "text/html": [
       "<div>\n",
       "<style scoped>\n",
       "    .dataframe tbody tr th:only-of-type {\n",
       "        vertical-align: middle;\n",
       "    }\n",
       "\n",
       "    .dataframe tbody tr th {\n",
       "        vertical-align: top;\n",
       "    }\n",
       "\n",
       "    .dataframe thead th {\n",
       "        text-align: right;\n",
       "    }\n",
       "</style>\n",
       "<table border=\"1\" class=\"dataframe\">\n",
       "  <thead>\n",
       "    <tr style=\"text-align: right;\">\n",
       "      <th></th>\n",
       "      <th>DAY_ID</th>\n",
       "      <th>ROUTE_ID</th>\n",
       "      <th>STORE_NUMBER</th>\n",
       "      <th>DAY_OF_WEEK</th>\n",
       "      <th>HELPER</th>\n",
       "      <th>TOTAL_WEIGHT</th>\n",
       "      <th>CASES</th>\n",
       "      <th>URBANITY</th>\n",
       "      <th>UNLOAD_TIME</th>\n",
       "      <th>avg_wt_of_case</th>\n",
       "    </tr>\n",
       "  </thead>\n",
       "  <tbody>\n",
       "    <tr>\n",
       "      <th>0</th>\n",
       "      <td>1</td>\n",
       "      <td>1</td>\n",
       "      <td>176</td>\n",
       "      <td>1</td>\n",
       "      <td>False</td>\n",
       "      <td>76.759312</td>\n",
       "      <td>16</td>\n",
       "      <td>U</td>\n",
       "      <td>46.579371</td>\n",
       "      <td>4.797457</td>\n",
       "    </tr>\n",
       "    <tr>\n",
       "      <th>1</th>\n",
       "      <td>4</td>\n",
       "      <td>1</td>\n",
       "      <td>176</td>\n",
       "      <td>4</td>\n",
       "      <td>False</td>\n",
       "      <td>54.218237</td>\n",
       "      <td>11</td>\n",
       "      <td>U</td>\n",
       "      <td>32.698010</td>\n",
       "      <td>4.928931</td>\n",
       "    </tr>\n",
       "    <tr>\n",
       "      <th>2</th>\n",
       "      <td>5</td>\n",
       "      <td>2</td>\n",
       "      <td>176</td>\n",
       "      <td>5</td>\n",
       "      <td>False</td>\n",
       "      <td>80.911549</td>\n",
       "      <td>17</td>\n",
       "      <td>U</td>\n",
       "      <td>49.060463</td>\n",
       "      <td>4.759503</td>\n",
       "    </tr>\n",
       "    <tr>\n",
       "      <th>3</th>\n",
       "      <td>6</td>\n",
       "      <td>5</td>\n",
       "      <td>176</td>\n",
       "      <td>6</td>\n",
       "      <td>False</td>\n",
       "      <td>65.970720</td>\n",
       "      <td>14</td>\n",
       "      <td>U</td>\n",
       "      <td>35.219056</td>\n",
       "      <td>4.712194</td>\n",
       "    </tr>\n",
       "    <tr>\n",
       "      <th>4</th>\n",
       "      <td>8</td>\n",
       "      <td>4</td>\n",
       "      <td>176</td>\n",
       "      <td>1</td>\n",
       "      <td>False</td>\n",
       "      <td>60.334548</td>\n",
       "      <td>13</td>\n",
       "      <td>U</td>\n",
       "      <td>38.351855</td>\n",
       "      <td>4.641119</td>\n",
       "    </tr>\n",
       "  </tbody>\n",
       "</table>\n",
       "</div>"
      ],
      "text/plain": [
       "   DAY_ID  ROUTE_ID  STORE_NUMBER  DAY_OF_WEEK  HELPER  TOTAL_WEIGHT  CASES  \\\n",
       "0       1         1           176            1   False     76.759312     16   \n",
       "1       4         1           176            4   False     54.218237     11   \n",
       "2       5         2           176            5   False     80.911549     17   \n",
       "3       6         5           176            6   False     65.970720     14   \n",
       "4       8         4           176            1   False     60.334548     13   \n",
       "\n",
       "  URBANITY  UNLOAD_TIME  avg_wt_of_case  \n",
       "0        U    46.579371        4.797457  \n",
       "1        U    32.698010        4.928931  \n",
       "2        U    49.060463        4.759503  \n",
       "3        U    35.219056        4.712194  \n",
       "4        U    38.351855        4.641119  "
      ]
     },
     "execution_count": 18,
     "metadata": {},
     "output_type": "execute_result"
    }
   ],
   "source": [
    "df.head()"
   ]
  },
  {
   "cell_type": "code",
   "execution_count": 19,
   "id": "8033e79b-304f-427e-83f4-b5fd6c536e9b",
   "metadata": {},
   "outputs": [
    {
     "data": {
      "text/plain": [
       "(3.7684276927040585, 5.0)"
      ]
     },
     "execution_count": 19,
     "metadata": {},
     "output_type": "execute_result"
    }
   ],
   "source": [
    "df['avg_wt_of_case'].min(), df['avg_wt_of_case'].max(), "
   ]
  },
  {
   "cell_type": "code",
   "execution_count": 20,
   "id": "c3b83386-eec8-434a-a4a4-3a64498e7512",
   "metadata": {},
   "outputs": [
    {
     "data": {
      "text/plain": [
       "3.7684276927040585"
      ]
     },
     "execution_count": 20,
     "metadata": {},
     "output_type": "execute_result"
    }
   ],
   "source": [
    "df['avg_wt_of_case'].min()"
   ]
  },
  {
   "cell_type": "code",
   "execution_count": 21,
   "id": "9509831b-ace5-42f5-93d4-9d4479a4e4e0",
   "metadata": {},
   "outputs": [],
   "source": [
    "df['range_avg_wt_of_case'] = pd.cut(df['avg_wt_of_case'], [3.75,4,4.25, 4.5, 4.75, 5], include_lowest=True)"
   ]
  },
  {
   "cell_type": "code",
   "execution_count": 22,
   "id": "80269756-946d-4126-a25d-40db0297400b",
   "metadata": {},
   "outputs": [
    {
     "data": {
      "text/html": [
       "<div>\n",
       "<style scoped>\n",
       "    .dataframe tbody tr th:only-of-type {\n",
       "        vertical-align: middle;\n",
       "    }\n",
       "\n",
       "    .dataframe tbody tr th {\n",
       "        vertical-align: top;\n",
       "    }\n",
       "\n",
       "    .dataframe thead th {\n",
       "        text-align: right;\n",
       "    }\n",
       "</style>\n",
       "<table border=\"1\" class=\"dataframe\">\n",
       "  <thead>\n",
       "    <tr style=\"text-align: right;\">\n",
       "      <th></th>\n",
       "      <th>DAY_ID</th>\n",
       "      <th>ROUTE_ID</th>\n",
       "      <th>STORE_NUMBER</th>\n",
       "      <th>DAY_OF_WEEK</th>\n",
       "      <th>HELPER</th>\n",
       "      <th>TOTAL_WEIGHT</th>\n",
       "      <th>CASES</th>\n",
       "      <th>URBANITY</th>\n",
       "      <th>UNLOAD_TIME</th>\n",
       "      <th>avg_wt_of_case</th>\n",
       "      <th>range_avg_wt_of_case</th>\n",
       "    </tr>\n",
       "  </thead>\n",
       "  <tbody>\n",
       "    <tr>\n",
       "      <th>0</th>\n",
       "      <td>1</td>\n",
       "      <td>1</td>\n",
       "      <td>176</td>\n",
       "      <td>1</td>\n",
       "      <td>False</td>\n",
       "      <td>76.759312</td>\n",
       "      <td>16</td>\n",
       "      <td>U</td>\n",
       "      <td>46.579371</td>\n",
       "      <td>4.797457</td>\n",
       "      <td>(4.75, 5.0]</td>\n",
       "    </tr>\n",
       "    <tr>\n",
       "      <th>1</th>\n",
       "      <td>4</td>\n",
       "      <td>1</td>\n",
       "      <td>176</td>\n",
       "      <td>4</td>\n",
       "      <td>False</td>\n",
       "      <td>54.218237</td>\n",
       "      <td>11</td>\n",
       "      <td>U</td>\n",
       "      <td>32.698010</td>\n",
       "      <td>4.928931</td>\n",
       "      <td>(4.75, 5.0]</td>\n",
       "    </tr>\n",
       "    <tr>\n",
       "      <th>2</th>\n",
       "      <td>5</td>\n",
       "      <td>2</td>\n",
       "      <td>176</td>\n",
       "      <td>5</td>\n",
       "      <td>False</td>\n",
       "      <td>80.911549</td>\n",
       "      <td>17</td>\n",
       "      <td>U</td>\n",
       "      <td>49.060463</td>\n",
       "      <td>4.759503</td>\n",
       "      <td>(4.75, 5.0]</td>\n",
       "    </tr>\n",
       "    <tr>\n",
       "      <th>3</th>\n",
       "      <td>6</td>\n",
       "      <td>5</td>\n",
       "      <td>176</td>\n",
       "      <td>6</td>\n",
       "      <td>False</td>\n",
       "      <td>65.970720</td>\n",
       "      <td>14</td>\n",
       "      <td>U</td>\n",
       "      <td>35.219056</td>\n",
       "      <td>4.712194</td>\n",
       "      <td>(4.5, 4.75]</td>\n",
       "    </tr>\n",
       "    <tr>\n",
       "      <th>4</th>\n",
       "      <td>8</td>\n",
       "      <td>4</td>\n",
       "      <td>176</td>\n",
       "      <td>1</td>\n",
       "      <td>False</td>\n",
       "      <td>60.334548</td>\n",
       "      <td>13</td>\n",
       "      <td>U</td>\n",
       "      <td>38.351855</td>\n",
       "      <td>4.641119</td>\n",
       "      <td>(4.5, 4.75]</td>\n",
       "    </tr>\n",
       "  </tbody>\n",
       "</table>\n",
       "</div>"
      ],
      "text/plain": [
       "   DAY_ID  ROUTE_ID  STORE_NUMBER  DAY_OF_WEEK  HELPER  TOTAL_WEIGHT  CASES  \\\n",
       "0       1         1           176            1   False     76.759312     16   \n",
       "1       4         1           176            4   False     54.218237     11   \n",
       "2       5         2           176            5   False     80.911549     17   \n",
       "3       6         5           176            6   False     65.970720     14   \n",
       "4       8         4           176            1   False     60.334548     13   \n",
       "\n",
       "  URBANITY  UNLOAD_TIME  avg_wt_of_case range_avg_wt_of_case  \n",
       "0        U    46.579371        4.797457          (4.75, 5.0]  \n",
       "1        U    32.698010        4.928931          (4.75, 5.0]  \n",
       "2        U    49.060463        4.759503          (4.75, 5.0]  \n",
       "3        U    35.219056        4.712194          (4.5, 4.75]  \n",
       "4        U    38.351855        4.641119          (4.5, 4.75]  "
      ]
     },
     "execution_count": 22,
     "metadata": {},
     "output_type": "execute_result"
    }
   ],
   "source": [
    "df.head()"
   ]
  },
  {
   "cell_type": "code",
   "execution_count": 23,
   "id": "89ba2490-efa4-494b-b809-527c0164d48c",
   "metadata": {},
   "outputs": [
    {
     "data": {
      "text/html": [
       "<div>\n",
       "<style scoped>\n",
       "    .dataframe tbody tr th:only-of-type {\n",
       "        vertical-align: middle;\n",
       "    }\n",
       "\n",
       "    .dataframe tbody tr th {\n",
       "        vertical-align: top;\n",
       "    }\n",
       "\n",
       "    .dataframe thead th {\n",
       "        text-align: right;\n",
       "    }\n",
       "</style>\n",
       "<table border=\"1\" class=\"dataframe\">\n",
       "  <thead>\n",
       "    <tr style=\"text-align: right;\">\n",
       "      <th></th>\n",
       "      <th>range_avg_wt_of_case</th>\n",
       "      <th>UNLOAD_TIME</th>\n",
       "    </tr>\n",
       "  </thead>\n",
       "  <tbody>\n",
       "    <tr>\n",
       "      <th>4</th>\n",
       "      <td>(4.75, 5.0]</td>\n",
       "      <td>30.559943</td>\n",
       "    </tr>\n",
       "    <tr>\n",
       "      <th>3</th>\n",
       "      <td>(4.5, 4.75]</td>\n",
       "      <td>27.776345</td>\n",
       "    </tr>\n",
       "    <tr>\n",
       "      <th>2</th>\n",
       "      <td>(4.25, 4.5]</td>\n",
       "      <td>18.821518</td>\n",
       "    </tr>\n",
       "    <tr>\n",
       "      <th>1</th>\n",
       "      <td>(4.0, 4.25]</td>\n",
       "      <td>12.667626</td>\n",
       "    </tr>\n",
       "    <tr>\n",
       "      <th>0</th>\n",
       "      <td>(3.749, 4.0]</td>\n",
       "      <td>7.987277</td>\n",
       "    </tr>\n",
       "  </tbody>\n",
       "</table>\n",
       "</div>"
      ],
      "text/plain": [
       "  range_avg_wt_of_case  UNLOAD_TIME\n",
       "4          (4.75, 5.0]    30.559943\n",
       "3          (4.5, 4.75]    27.776345\n",
       "2          (4.25, 4.5]    18.821518\n",
       "1          (4.0, 4.25]    12.667626\n",
       "0         (3.749, 4.0]     7.987277"
      ]
     },
     "execution_count": 23,
     "metadata": {},
     "output_type": "execute_result"
    }
   ],
   "source": [
    "df.groupby('range_avg_wt_of_case')['UNLOAD_TIME'].mean().reset_index().sort_values('UNLOAD_TIME',ascending=False).head(10)"
   ]
  },
  {
   "cell_type": "code",
   "execution_count": 24,
   "id": "402f3cfc-f66a-4373-93fe-ffa1466c2293",
   "metadata": {},
   "outputs": [
    {
     "data": {
      "text/html": [
       "<div>\n",
       "<style scoped>\n",
       "    .dataframe tbody tr th:only-of-type {\n",
       "        vertical-align: middle;\n",
       "    }\n",
       "\n",
       "    .dataframe tbody tr th {\n",
       "        vertical-align: top;\n",
       "    }\n",
       "\n",
       "    .dataframe thead th {\n",
       "        text-align: right;\n",
       "    }\n",
       "</style>\n",
       "<table border=\"1\" class=\"dataframe\">\n",
       "  <thead>\n",
       "    <tr style=\"text-align: right;\">\n",
       "      <th></th>\n",
       "      <th>range_avg_wt_of_case</th>\n",
       "      <th>UNLOAD_TIME</th>\n",
       "    </tr>\n",
       "  </thead>\n",
       "  <tbody>\n",
       "    <tr>\n",
       "      <th>4</th>\n",
       "      <td>(4.75, 5.0]</td>\n",
       "      <td>30.543798</td>\n",
       "    </tr>\n",
       "    <tr>\n",
       "      <th>3</th>\n",
       "      <td>(4.5, 4.75]</td>\n",
       "      <td>27.737184</td>\n",
       "    </tr>\n",
       "    <tr>\n",
       "      <th>2</th>\n",
       "      <td>(4.25, 4.5]</td>\n",
       "      <td>18.929165</td>\n",
       "    </tr>\n",
       "    <tr>\n",
       "      <th>1</th>\n",
       "      <td>(4.0, 4.25]</td>\n",
       "      <td>11.755338</td>\n",
       "    </tr>\n",
       "    <tr>\n",
       "      <th>0</th>\n",
       "      <td>(3.749, 4.0]</td>\n",
       "      <td>6.698664</td>\n",
       "    </tr>\n",
       "  </tbody>\n",
       "</table>\n",
       "</div>"
      ],
      "text/plain": [
       "  range_avg_wt_of_case  UNLOAD_TIME\n",
       "4          (4.75, 5.0]    30.543798\n",
       "3          (4.5, 4.75]    27.737184\n",
       "2          (4.25, 4.5]    18.929165\n",
       "1          (4.0, 4.25]    11.755338\n",
       "0         (3.749, 4.0]     6.698664"
      ]
     },
     "execution_count": 24,
     "metadata": {},
     "output_type": "execute_result"
    }
   ],
   "source": [
    "df.groupby('range_avg_wt_of_case')['UNLOAD_TIME'].median().reset_index().sort_values('UNLOAD_TIME',ascending=False).head(10)"
   ]
  },
  {
   "cell_type": "code",
   "execution_count": 25,
   "id": "21d18f28-b473-4cf2-84b9-aad6cc875bb1",
   "metadata": {},
   "outputs": [
    {
     "data": {
      "text/html": [
       "<div>\n",
       "<style scoped>\n",
       "    .dataframe tbody tr th:only-of-type {\n",
       "        vertical-align: middle;\n",
       "    }\n",
       "\n",
       "    .dataframe tbody tr th {\n",
       "        vertical-align: top;\n",
       "    }\n",
       "\n",
       "    .dataframe thead th {\n",
       "        text-align: right;\n",
       "    }\n",
       "</style>\n",
       "<table border=\"1\" class=\"dataframe\">\n",
       "  <thead>\n",
       "    <tr style=\"text-align: right;\">\n",
       "      <th></th>\n",
       "      <th>range_avg_wt_of_case</th>\n",
       "      <th>HELPER</th>\n",
       "      <th>UNLOAD_TIME</th>\n",
       "    </tr>\n",
       "  </thead>\n",
       "  <tbody>\n",
       "    <tr>\n",
       "      <th>8</th>\n",
       "      <td>(4.75, 5.0]</td>\n",
       "      <td>False</td>\n",
       "      <td>32.075195</td>\n",
       "    </tr>\n",
       "    <tr>\n",
       "      <th>6</th>\n",
       "      <td>(4.5, 4.75]</td>\n",
       "      <td>False</td>\n",
       "      <td>29.065329</td>\n",
       "    </tr>\n",
       "    <tr>\n",
       "      <th>4</th>\n",
       "      <td>(4.25, 4.5]</td>\n",
       "      <td>False</td>\n",
       "      <td>19.616625</td>\n",
       "    </tr>\n",
       "    <tr>\n",
       "      <th>9</th>\n",
       "      <td>(4.75, 5.0]</td>\n",
       "      <td>True</td>\n",
       "      <td>17.252715</td>\n",
       "    </tr>\n",
       "    <tr>\n",
       "      <th>7</th>\n",
       "      <td>(4.5, 4.75]</td>\n",
       "      <td>True</td>\n",
       "      <td>15.666864</td>\n",
       "    </tr>\n",
       "    <tr>\n",
       "      <th>2</th>\n",
       "      <td>(4.0, 4.25]</td>\n",
       "      <td>False</td>\n",
       "      <td>13.033101</td>\n",
       "    </tr>\n",
       "    <tr>\n",
       "      <th>5</th>\n",
       "      <td>(4.25, 4.5]</td>\n",
       "      <td>True</td>\n",
       "      <td>11.205221</td>\n",
       "    </tr>\n",
       "    <tr>\n",
       "      <th>0</th>\n",
       "      <td>(3.749, 4.0]</td>\n",
       "      <td>False</td>\n",
       "      <td>8.484097</td>\n",
       "    </tr>\n",
       "    <tr>\n",
       "      <th>3</th>\n",
       "      <td>(4.0, 4.25]</td>\n",
       "      <td>True</td>\n",
       "      <td>7.916452</td>\n",
       "    </tr>\n",
       "    <tr>\n",
       "      <th>1</th>\n",
       "      <td>(3.749, 4.0]</td>\n",
       "      <td>True</td>\n",
       "      <td>6.000000</td>\n",
       "    </tr>\n",
       "  </tbody>\n",
       "</table>\n",
       "</div>"
      ],
      "text/plain": [
       "  range_avg_wt_of_case  HELPER  UNLOAD_TIME\n",
       "8          (4.75, 5.0]   False    32.075195\n",
       "6          (4.5, 4.75]   False    29.065329\n",
       "4          (4.25, 4.5]   False    19.616625\n",
       "9          (4.75, 5.0]    True    17.252715\n",
       "7          (4.5, 4.75]    True    15.666864\n",
       "2          (4.0, 4.25]   False    13.033101\n",
       "5          (4.25, 4.5]    True    11.205221\n",
       "0         (3.749, 4.0]   False     8.484097\n",
       "3          (4.0, 4.25]    True     7.916452\n",
       "1         (3.749, 4.0]    True     6.000000"
      ]
     },
     "execution_count": 25,
     "metadata": {},
     "output_type": "execute_result"
    }
   ],
   "source": [
    "df.groupby(['range_avg_wt_of_case','HELPER'])['UNLOAD_TIME'].mean().reset_index().sort_values('UNLOAD_TIME',ascending=False).head(10)"
   ]
  },
  {
   "cell_type": "code",
   "execution_count": 26,
   "id": "0acbe4f4-864b-41a9-addb-91f7b464232d",
   "metadata": {},
   "outputs": [
    {
     "data": {
      "text/html": [
       "<div>\n",
       "<style scoped>\n",
       "    .dataframe tbody tr th:only-of-type {\n",
       "        vertical-align: middle;\n",
       "    }\n",
       "\n",
       "    .dataframe tbody tr th {\n",
       "        vertical-align: top;\n",
       "    }\n",
       "\n",
       "    .dataframe thead th {\n",
       "        text-align: right;\n",
       "    }\n",
       "</style>\n",
       "<table border=\"1\" class=\"dataframe\">\n",
       "  <thead>\n",
       "    <tr style=\"text-align: right;\">\n",
       "      <th></th>\n",
       "      <th>DAY_OF_WEEK</th>\n",
       "      <th>UNLOAD_TIME</th>\n",
       "    </tr>\n",
       "  </thead>\n",
       "  <tbody>\n",
       "    <tr>\n",
       "      <th>4</th>\n",
       "      <td>4</td>\n",
       "      <td>29.341144</td>\n",
       "    </tr>\n",
       "    <tr>\n",
       "      <th>6</th>\n",
       "      <td>6</td>\n",
       "      <td>29.239998</td>\n",
       "    </tr>\n",
       "    <tr>\n",
       "      <th>2</th>\n",
       "      <td>2</td>\n",
       "      <td>29.194728</td>\n",
       "    </tr>\n",
       "    <tr>\n",
       "      <th>0</th>\n",
       "      <td>0</td>\n",
       "      <td>29.193222</td>\n",
       "    </tr>\n",
       "    <tr>\n",
       "      <th>1</th>\n",
       "      <td>1</td>\n",
       "      <td>29.146497</td>\n",
       "    </tr>\n",
       "    <tr>\n",
       "      <th>3</th>\n",
       "      <td>3</td>\n",
       "      <td>29.127350</td>\n",
       "    </tr>\n",
       "    <tr>\n",
       "      <th>5</th>\n",
       "      <td>5</td>\n",
       "      <td>28.913360</td>\n",
       "    </tr>\n",
       "  </tbody>\n",
       "</table>\n",
       "</div>"
      ],
      "text/plain": [
       "   DAY_OF_WEEK  UNLOAD_TIME\n",
       "4            4    29.341144\n",
       "6            6    29.239998\n",
       "2            2    29.194728\n",
       "0            0    29.193222\n",
       "1            1    29.146497\n",
       "3            3    29.127350\n",
       "5            5    28.913360"
      ]
     },
     "execution_count": 26,
     "metadata": {},
     "output_type": "execute_result"
    }
   ],
   "source": [
    "df.groupby('DAY_OF_WEEK')['UNLOAD_TIME'].mean().reset_index().sort_values('UNLOAD_TIME',ascending=False).head(10)"
   ]
  },
  {
   "cell_type": "code",
   "execution_count": 27,
   "id": "0cbc9733-d5bd-45e2-9c7c-ecc70abf5686",
   "metadata": {},
   "outputs": [
    {
     "data": {
      "text/plain": [
       "DAY_ID                     int64\n",
       "ROUTE_ID                   int64\n",
       "STORE_NUMBER               int64\n",
       "DAY_OF_WEEK                int64\n",
       "HELPER                      bool\n",
       "TOTAL_WEIGHT             float64\n",
       "CASES                      int64\n",
       "URBANITY                  object\n",
       "UNLOAD_TIME              float64\n",
       "avg_wt_of_case           float64\n",
       "range_avg_wt_of_case    category\n",
       "dtype: object"
      ]
     },
     "execution_count": 27,
     "metadata": {},
     "output_type": "execute_result"
    }
   ],
   "source": [
    "df.dtypes"
   ]
  },
  {
   "cell_type": "code",
   "execution_count": 28,
   "id": "f0372a4c-1d37-44f1-b10b-1d15870cd372",
   "metadata": {},
   "outputs": [
    {
     "data": {
      "text/html": [
       "<div>\n",
       "<style scoped>\n",
       "    .dataframe tbody tr th:only-of-type {\n",
       "        vertical-align: middle;\n",
       "    }\n",
       "\n",
       "    .dataframe tbody tr th {\n",
       "        vertical-align: top;\n",
       "    }\n",
       "\n",
       "    .dataframe thead th {\n",
       "        text-align: right;\n",
       "    }\n",
       "</style>\n",
       "<table border=\"1\" class=\"dataframe\">\n",
       "  <thead>\n",
       "    <tr style=\"text-align: right;\">\n",
       "      <th></th>\n",
       "      <th>DAY_ID</th>\n",
       "      <th>ROUTE_ID</th>\n",
       "      <th>STORE_NUMBER</th>\n",
       "      <th>DAY_OF_WEEK</th>\n",
       "      <th>HELPER</th>\n",
       "      <th>TOTAL_WEIGHT</th>\n",
       "      <th>CASES</th>\n",
       "      <th>URBANITY</th>\n",
       "      <th>UNLOAD_TIME</th>\n",
       "      <th>avg_wt_of_case</th>\n",
       "      <th>range_avg_wt_of_case</th>\n",
       "    </tr>\n",
       "  </thead>\n",
       "  <tbody>\n",
       "    <tr>\n",
       "      <th>0</th>\n",
       "      <td>1</td>\n",
       "      <td>1</td>\n",
       "      <td>176</td>\n",
       "      <td>1</td>\n",
       "      <td>False</td>\n",
       "      <td>76.759312</td>\n",
       "      <td>16</td>\n",
       "      <td>U</td>\n",
       "      <td>46.579371</td>\n",
       "      <td>4.797457</td>\n",
       "      <td>(4.75, 5.0]</td>\n",
       "    </tr>\n",
       "    <tr>\n",
       "      <th>1</th>\n",
       "      <td>4</td>\n",
       "      <td>1</td>\n",
       "      <td>176</td>\n",
       "      <td>4</td>\n",
       "      <td>False</td>\n",
       "      <td>54.218237</td>\n",
       "      <td>11</td>\n",
       "      <td>U</td>\n",
       "      <td>32.698010</td>\n",
       "      <td>4.928931</td>\n",
       "      <td>(4.75, 5.0]</td>\n",
       "    </tr>\n",
       "    <tr>\n",
       "      <th>2</th>\n",
       "      <td>5</td>\n",
       "      <td>2</td>\n",
       "      <td>176</td>\n",
       "      <td>5</td>\n",
       "      <td>False</td>\n",
       "      <td>80.911549</td>\n",
       "      <td>17</td>\n",
       "      <td>U</td>\n",
       "      <td>49.060463</td>\n",
       "      <td>4.759503</td>\n",
       "      <td>(4.75, 5.0]</td>\n",
       "    </tr>\n",
       "    <tr>\n",
       "      <th>3</th>\n",
       "      <td>6</td>\n",
       "      <td>5</td>\n",
       "      <td>176</td>\n",
       "      <td>6</td>\n",
       "      <td>False</td>\n",
       "      <td>65.970720</td>\n",
       "      <td>14</td>\n",
       "      <td>U</td>\n",
       "      <td>35.219056</td>\n",
       "      <td>4.712194</td>\n",
       "      <td>(4.5, 4.75]</td>\n",
       "    </tr>\n",
       "    <tr>\n",
       "      <th>4</th>\n",
       "      <td>8</td>\n",
       "      <td>4</td>\n",
       "      <td>176</td>\n",
       "      <td>1</td>\n",
       "      <td>False</td>\n",
       "      <td>60.334548</td>\n",
       "      <td>13</td>\n",
       "      <td>U</td>\n",
       "      <td>38.351855</td>\n",
       "      <td>4.641119</td>\n",
       "      <td>(4.5, 4.75]</td>\n",
       "    </tr>\n",
       "  </tbody>\n",
       "</table>\n",
       "</div>"
      ],
      "text/plain": [
       "   DAY_ID  ROUTE_ID  STORE_NUMBER  DAY_OF_WEEK  HELPER  TOTAL_WEIGHT  CASES  \\\n",
       "0       1         1           176            1   False     76.759312     16   \n",
       "1       4         1           176            4   False     54.218237     11   \n",
       "2       5         2           176            5   False     80.911549     17   \n",
       "3       6         5           176            6   False     65.970720     14   \n",
       "4       8         4           176            1   False     60.334548     13   \n",
       "\n",
       "  URBANITY  UNLOAD_TIME  avg_wt_of_case range_avg_wt_of_case  \n",
       "0        U    46.579371        4.797457          (4.75, 5.0]  \n",
       "1        U    32.698010        4.928931          (4.75, 5.0]  \n",
       "2        U    49.060463        4.759503          (4.75, 5.0]  \n",
       "3        U    35.219056        4.712194          (4.5, 4.75]  \n",
       "4        U    38.351855        4.641119          (4.5, 4.75]  "
      ]
     },
     "execution_count": 28,
     "metadata": {},
     "output_type": "execute_result"
    }
   ],
   "source": [
    "df.head()"
   ]
  },
  {
   "cell_type": "markdown",
   "id": "5cd872ad-d159-44a5-86ee-889e4d36b9f6",
   "metadata": {},
   "source": [
    "## Train test split"
   ]
  },
  {
   "cell_type": "code",
   "execution_count": 31,
   "id": "3043a8c2-45f6-40a8-b831-587ba6a2a0f3",
   "metadata": {},
   "outputs": [],
   "source": [
    "X_cols = [\"ROUTE_ID\",\"DAY_OF_WEEK\",\"HELPER\",\"range_avg_wt_of_case\",\"URBANITY\"]\n",
    "Y_cols = [\"UNLOAD_TIME\"]"
   ]
  },
  {
   "cell_type": "code",
   "execution_count": 32,
   "id": "3cc5b3e1-2af8-474d-8681-4703594aedc9",
   "metadata": {},
   "outputs": [
    {
     "data": {
      "text/plain": [
       "((15321, 5), (15321, 1))"
      ]
     },
     "execution_count": 32,
     "metadata": {},
     "output_type": "execute_result"
    }
   ],
   "source": [
    "X_train = df[X_cols]\n",
    "y_train = df[Y_cols]\n",
    "\n",
    "X_train.shape, y_train.shape"
   ]
  },
  {
   "cell_type": "code",
   "execution_count": 33,
   "id": "7f4d7587-f35e-4a4c-a8d0-0e0f0ebeaf89",
   "metadata": {},
   "outputs": [
    {
     "data": {
      "text/plain": [
       "((12256, 5), (3065, 5), (12256, 1), (3065, 1))"
      ]
     },
     "execution_count": 33,
     "metadata": {},
     "output_type": "execute_result"
    }
   ],
   "source": [
    "from sklearn.model_selection import train_test_split\n",
    "\n",
    "X_train,X_test,y_train,y_test = train_test_split(X_train,y_train, test_size = 0.2)\n",
    "\n",
    "X_train.shape,X_test.shape,y_train.shape,y_test.shape"
   ]
  },
  {
   "cell_type": "code",
   "execution_count": 73,
   "id": "dfbf8701-5299-4603-8982-e1926987462e",
   "metadata": {},
   "outputs": [
    {
     "data": {
      "text/html": [
       "<div>\n",
       "<style scoped>\n",
       "    .dataframe tbody tr th:only-of-type {\n",
       "        vertical-align: middle;\n",
       "    }\n",
       "\n",
       "    .dataframe tbody tr th {\n",
       "        vertical-align: top;\n",
       "    }\n",
       "\n",
       "    .dataframe thead th {\n",
       "        text-align: right;\n",
       "    }\n",
       "</style>\n",
       "<table border=\"1\" class=\"dataframe\">\n",
       "  <thead>\n",
       "    <tr style=\"text-align: right;\">\n",
       "      <th></th>\n",
       "      <th>ROUTE_ID</th>\n",
       "      <th>DAY_OF_WEEK</th>\n",
       "      <th>HELPER</th>\n",
       "      <th>range_avg_wt_of_case</th>\n",
       "      <th>URBANITY</th>\n",
       "    </tr>\n",
       "  </thead>\n",
       "  <tbody>\n",
       "    <tr>\n",
       "      <th>2454</th>\n",
       "      <td>7</td>\n",
       "      <td>1</td>\n",
       "      <td>False</td>\n",
       "      <td>(4.75, 5.0]</td>\n",
       "      <td>X</td>\n",
       "    </tr>\n",
       "    <tr>\n",
       "      <th>8723</th>\n",
       "      <td>5</td>\n",
       "      <td>6</td>\n",
       "      <td>False</td>\n",
       "      <td>(4.75, 5.0]</td>\n",
       "      <td>U</td>\n",
       "    </tr>\n",
       "    <tr>\n",
       "      <th>14512</th>\n",
       "      <td>3</td>\n",
       "      <td>0</td>\n",
       "      <td>False</td>\n",
       "      <td>(4.5, 4.75]</td>\n",
       "      <td>U</td>\n",
       "    </tr>\n",
       "    <tr>\n",
       "      <th>4276</th>\n",
       "      <td>2</td>\n",
       "      <td>1</td>\n",
       "      <td>False</td>\n",
       "      <td>(4.5, 4.75]</td>\n",
       "      <td>U</td>\n",
       "    </tr>\n",
       "    <tr>\n",
       "      <th>7490</th>\n",
       "      <td>4</td>\n",
       "      <td>1</td>\n",
       "      <td>False</td>\n",
       "      <td>(4.75, 5.0]</td>\n",
       "      <td>S</td>\n",
       "    </tr>\n",
       "  </tbody>\n",
       "</table>\n",
       "</div>"
      ],
      "text/plain": [
       "       ROUTE_ID  DAY_OF_WEEK  HELPER range_avg_wt_of_case URBANITY\n",
       "2454          7            1   False          (4.75, 5.0]        X\n",
       "8723          5            6   False          (4.75, 5.0]        U\n",
       "14512         3            0   False          (4.5, 4.75]        U\n",
       "4276          2            1   False          (4.5, 4.75]        U\n",
       "7490          4            1   False          (4.75, 5.0]        S"
      ]
     },
     "execution_count": 73,
     "metadata": {},
     "output_type": "execute_result"
    }
   ],
   "source": [
    "X_test.head()"
   ]
  },
  {
   "cell_type": "markdown",
   "id": "e3c34f75-b2fe-4e10-9520-669b587ff8ef",
   "metadata": {},
   "source": [
    "## Data preprocessing"
   ]
  },
  {
   "cell_type": "code",
   "execution_count": 34,
   "id": "852ca2c3-58a6-4335-9571-047b813c7941",
   "metadata": {},
   "outputs": [],
   "source": [
    "from sklearn.preprocessing import LabelEncoder\n",
    "from collections import defaultdict\n",
    "d = defaultdict(LabelEncoder)"
   ]
  },
  {
   "cell_type": "code",
   "execution_count": 35,
   "id": "b6f9d177-0ed8-4d49-b2fc-7eef319ce2b5",
   "metadata": {},
   "outputs": [
    {
     "data": {
      "text/html": [
       "<div>\n",
       "<style scoped>\n",
       "    .dataframe tbody tr th:only-of-type {\n",
       "        vertical-align: middle;\n",
       "    }\n",
       "\n",
       "    .dataframe tbody tr th {\n",
       "        vertical-align: top;\n",
       "    }\n",
       "\n",
       "    .dataframe thead th {\n",
       "        text-align: right;\n",
       "    }\n",
       "</style>\n",
       "<table border=\"1\" class=\"dataframe\">\n",
       "  <thead>\n",
       "    <tr style=\"text-align: right;\">\n",
       "      <th></th>\n",
       "      <th>ROUTE_ID</th>\n",
       "      <th>DAY_OF_WEEK</th>\n",
       "      <th>HELPER</th>\n",
       "      <th>range_avg_wt_of_case</th>\n",
       "      <th>URBANITY</th>\n",
       "    </tr>\n",
       "  </thead>\n",
       "  <tbody>\n",
       "    <tr>\n",
       "      <th>10045</th>\n",
       "      <td>2</td>\n",
       "      <td>6</td>\n",
       "      <td>False</td>\n",
       "      <td>(4.75, 5.0]</td>\n",
       "      <td>U</td>\n",
       "    </tr>\n",
       "    <tr>\n",
       "      <th>569</th>\n",
       "      <td>5</td>\n",
       "      <td>6</td>\n",
       "      <td>False</td>\n",
       "      <td>(4.75, 5.0]</td>\n",
       "      <td>S</td>\n",
       "    </tr>\n",
       "    <tr>\n",
       "      <th>11884</th>\n",
       "      <td>5</td>\n",
       "      <td>0</td>\n",
       "      <td>False</td>\n",
       "      <td>(4.75, 5.0]</td>\n",
       "      <td>U</td>\n",
       "    </tr>\n",
       "    <tr>\n",
       "      <th>2777</th>\n",
       "      <td>2</td>\n",
       "      <td>5</td>\n",
       "      <td>False</td>\n",
       "      <td>(4.5, 4.75]</td>\n",
       "      <td>S</td>\n",
       "    </tr>\n",
       "    <tr>\n",
       "      <th>12543</th>\n",
       "      <td>5</td>\n",
       "      <td>3</td>\n",
       "      <td>False</td>\n",
       "      <td>(4.75, 5.0]</td>\n",
       "      <td>U</td>\n",
       "    </tr>\n",
       "  </tbody>\n",
       "</table>\n",
       "</div>"
      ],
      "text/plain": [
       "       ROUTE_ID  DAY_OF_WEEK  HELPER range_avg_wt_of_case URBANITY\n",
       "10045         2            6   False          (4.75, 5.0]        U\n",
       "569           5            6   False          (4.75, 5.0]        S\n",
       "11884         5            0   False          (4.75, 5.0]        U\n",
       "2777          2            5   False          (4.5, 4.75]        S\n",
       "12543         5            3   False          (4.75, 5.0]        U"
      ]
     },
     "execution_count": 35,
     "metadata": {},
     "output_type": "execute_result"
    }
   ],
   "source": [
    "X_train.head()"
   ]
  },
  {
   "cell_type": "code",
   "execution_count": 40,
   "id": "ba83eb86-4df1-4807-8b31-53a1df10e3c0",
   "metadata": {},
   "outputs": [],
   "source": [
    "X_train_encoded = X_train.apply(lambda x: d[x.name].fit_transform(x))"
   ]
  },
  {
   "cell_type": "code",
   "execution_count": 42,
   "id": "6f676c12-fb99-47eb-a4ba-d10fb2532c89",
   "metadata": {},
   "outputs": [],
   "source": [
    "X_test_encoded = X_test.apply(lambda x: d[x.name].transform(x))"
   ]
  },
  {
   "cell_type": "code",
   "execution_count": 41,
   "id": "9ec33450-eae5-4d65-b06c-31a4bbac3954",
   "metadata": {},
   "outputs": [
    {
     "data": {
      "text/html": [
       "<div>\n",
       "<style scoped>\n",
       "    .dataframe tbody tr th:only-of-type {\n",
       "        vertical-align: middle;\n",
       "    }\n",
       "\n",
       "    .dataframe tbody tr th {\n",
       "        vertical-align: top;\n",
       "    }\n",
       "\n",
       "    .dataframe thead th {\n",
       "        text-align: right;\n",
       "    }\n",
       "</style>\n",
       "<table border=\"1\" class=\"dataframe\">\n",
       "  <thead>\n",
       "    <tr style=\"text-align: right;\">\n",
       "      <th></th>\n",
       "      <th>ROUTE_ID</th>\n",
       "      <th>DAY_OF_WEEK</th>\n",
       "      <th>HELPER</th>\n",
       "      <th>range_avg_wt_of_case</th>\n",
       "      <th>URBANITY</th>\n",
       "    </tr>\n",
       "  </thead>\n",
       "  <tbody>\n",
       "    <tr>\n",
       "      <th>10045</th>\n",
       "      <td>1</td>\n",
       "      <td>6</td>\n",
       "      <td>0</td>\n",
       "      <td>4</td>\n",
       "      <td>1</td>\n",
       "    </tr>\n",
       "    <tr>\n",
       "      <th>569</th>\n",
       "      <td>4</td>\n",
       "      <td>6</td>\n",
       "      <td>0</td>\n",
       "      <td>4</td>\n",
       "      <td>0</td>\n",
       "    </tr>\n",
       "    <tr>\n",
       "      <th>11884</th>\n",
       "      <td>4</td>\n",
       "      <td>0</td>\n",
       "      <td>0</td>\n",
       "      <td>4</td>\n",
       "      <td>1</td>\n",
       "    </tr>\n",
       "    <tr>\n",
       "      <th>2777</th>\n",
       "      <td>1</td>\n",
       "      <td>5</td>\n",
       "      <td>0</td>\n",
       "      <td>3</td>\n",
       "      <td>0</td>\n",
       "    </tr>\n",
       "    <tr>\n",
       "      <th>12543</th>\n",
       "      <td>4</td>\n",
       "      <td>3</td>\n",
       "      <td>0</td>\n",
       "      <td>4</td>\n",
       "      <td>1</td>\n",
       "    </tr>\n",
       "  </tbody>\n",
       "</table>\n",
       "</div>"
      ],
      "text/plain": [
       "       ROUTE_ID  DAY_OF_WEEK  HELPER  range_avg_wt_of_case  URBANITY\n",
       "10045         1            6       0                     4         1\n",
       "569           4            6       0                     4         0\n",
       "11884         4            0       0                     4         1\n",
       "2777          1            5       0                     3         0\n",
       "12543         4            3       0                     4         1"
      ]
     },
     "execution_count": 41,
     "metadata": {},
     "output_type": "execute_result"
    }
   ],
   "source": [
    "X_train_encoded.head()"
   ]
  },
  {
   "cell_type": "markdown",
   "id": "253096ee-70bd-4f90-9543-6df1d000492c",
   "metadata": {},
   "source": [
    "## Modeling"
   ]
  },
  {
   "cell_type": "code",
   "execution_count": 48,
   "id": "59258633-d9f6-42fd-beaa-9f236ed57475",
   "metadata": {},
   "outputs": [],
   "source": [
    "regressor=xgb.XGBRegressor(eval_metric='rmsle')"
   ]
  },
  {
   "cell_type": "code",
   "execution_count": 50,
   "id": "be0b989b-a32a-4794-bd81-0671eda32a8a",
   "metadata": {},
   "outputs": [
    {
     "name": "stdout",
     "output_type": "stream",
     "text": [
      "The best hyperparameters are  {'learning_rate': 0.01, 'max_depth': 4, 'n_estimators': 500}\n",
      "CPU times: user 5min 25s, sys: 10.1 s, total: 5min 35s\n",
      "Wall time: 31.4 s\n"
     ]
    }
   ],
   "source": [
    "%%time\n",
    "\n",
    "from sklearn.model_selection import GridSearchCV\n",
    "# set up our search grid\n",
    "param_grid = {\"max_depth\":    [2, 4, 5],\n",
    "              \"n_estimators\": [100, 300, 500],\n",
    "              \"learning_rate\": [0.01, 0.001]}\n",
    "\n",
    "# try out every combination of the above values\n",
    "search = GridSearchCV(regressor, param_grid, cv=5).fit(X_train_encoded, y_train)\n",
    "\n",
    "print(\"The best hyperparameters are \",search.best_params_)"
   ]
  },
  {
   "cell_type": "code",
   "execution_count": 52,
   "id": "678427a2-4c76-41a7-8c2b-22ce7c37475e",
   "metadata": {},
   "outputs": [
    {
     "data": {
      "text/plain": [
       "XGBRegressor(base_score=0.5, booster='gbtree', callbacks=None,\n",
       "             colsample_bylevel=1, colsample_bynode=1, colsample_bytree=1,\n",
       "             early_stopping_rounds=None, enable_categorical=False,\n",
       "             eval_metric=None, gamma=0, gpu_id=-1, grow_policy='depthwise',\n",
       "             importance_type=None, interaction_constraints='',\n",
       "             learning_rate=0.01, max_bin=256, max_cat_to_onehot=4,\n",
       "             max_delta_step=0, max_depth=4, max_leaves=0, min_child_weight=1,\n",
       "             missing=nan, monotone_constraints='()', n_estimators=500, n_jobs=0,\n",
       "             num_parallel_tree=1, predictor='auto', random_state=0, reg_alpha=0,\n",
       "             reg_lambda=1, ...)"
      ]
     },
     "execution_count": 52,
     "metadata": {},
     "output_type": "execute_result"
    }
   ],
   "source": [
    "regressor=xgb.XGBRegressor(learning_rate = search.best_params_[\"learning_rate\"],\n",
    "                           n_estimators  = search.best_params_[\"n_estimators\"],\n",
    "                           max_depth     = search.best_params_[\"max_depth\"],)\n",
    "\n",
    "regressor.fit(X_train_encoded, y_train)"
   ]
  },
  {
   "cell_type": "code",
   "execution_count": 53,
   "id": "f66b986b-23b7-4417-8546-26b07e45c8a1",
   "metadata": {},
   "outputs": [],
   "source": [
    "predictions = regressor.predict(X_test_encoded)"
   ]
  },
  {
   "cell_type": "code",
   "execution_count": 55,
   "id": "e50dbabf-9eaf-4edf-bf9e-a612ca2bd852",
   "metadata": {},
   "outputs": [
    {
     "data": {
      "text/plain": [
       "array([22.174187, 36.314472, 32.412415, 32.412415, 28.914831],\n",
       "      dtype=float32)"
      ]
     },
     "execution_count": 55,
     "metadata": {},
     "output_type": "execute_result"
    }
   ],
   "source": [
    "predictions[:5]"
   ]
  },
  {
   "cell_type": "code",
   "execution_count": 56,
   "id": "ab334be1-b795-4b32-945b-f99e637c7634",
   "metadata": {},
   "outputs": [
    {
     "name": "stdout",
     "output_type": "stream",
     "text": [
      "The score is 0.21712\n"
     ]
    }
   ],
   "source": [
    "from sklearn.metrics import mean_squared_log_error\n",
    "RMSLE = np.sqrt( mean_squared_log_error(y_test, predictions) )\n",
    "print(\"The score is %.5f\" % RMSLE )"
   ]
  },
  {
   "cell_type": "markdown",
   "id": "abd53981-99aa-4b8d-a45e-e0bd19cc3068",
   "metadata": {},
   "source": [
    "## Error analysis"
   ]
  },
  {
   "cell_type": "code",
   "execution_count": 79,
   "id": "445aac66-2d8c-44ac-a4f4-b365bac01e6b",
   "metadata": {},
   "outputs": [],
   "source": [
    "df_test_data_report = X_test[X_cols].copy()"
   ]
  },
  {
   "cell_type": "code",
   "execution_count": 80,
   "id": "c86b1767-15b7-4cad-8253-1a3cf2f79182",
   "metadata": {},
   "outputs": [],
   "source": [
    "df_test_data_report[\"actual_UNLOAD_TIME\"] = y_test\n",
    "df_test_data_report[\"predicted_UNLOAD_TIME\"] = predictions"
   ]
  },
  {
   "cell_type": "code",
   "execution_count": 81,
   "id": "f746bf2f-3ad4-417f-ae19-63888c094c20",
   "metadata": {},
   "outputs": [
    {
     "data": {
      "text/html": [
       "<div>\n",
       "<style scoped>\n",
       "    .dataframe tbody tr th:only-of-type {\n",
       "        vertical-align: middle;\n",
       "    }\n",
       "\n",
       "    .dataframe tbody tr th {\n",
       "        vertical-align: top;\n",
       "    }\n",
       "\n",
       "    .dataframe thead th {\n",
       "        text-align: right;\n",
       "    }\n",
       "</style>\n",
       "<table border=\"1\" class=\"dataframe\">\n",
       "  <thead>\n",
       "    <tr style=\"text-align: right;\">\n",
       "      <th></th>\n",
       "      <th>ROUTE_ID</th>\n",
       "      <th>DAY_OF_WEEK</th>\n",
       "      <th>HELPER</th>\n",
       "      <th>range_avg_wt_of_case</th>\n",
       "      <th>URBANITY</th>\n",
       "      <th>actual_UNLOAD_TIME</th>\n",
       "      <th>predicted_UNLOAD_TIME</th>\n",
       "    </tr>\n",
       "  </thead>\n",
       "  <tbody>\n",
       "    <tr>\n",
       "      <th>2454</th>\n",
       "      <td>7</td>\n",
       "      <td>1</td>\n",
       "      <td>False</td>\n",
       "      <td>(4.75, 5.0]</td>\n",
       "      <td>X</td>\n",
       "      <td>23.744685</td>\n",
       "      <td>22.174187</td>\n",
       "    </tr>\n",
       "    <tr>\n",
       "      <th>8723</th>\n",
       "      <td>5</td>\n",
       "      <td>6</td>\n",
       "      <td>False</td>\n",
       "      <td>(4.75, 5.0]</td>\n",
       "      <td>U</td>\n",
       "      <td>36.655240</td>\n",
       "      <td>36.314472</td>\n",
       "    </tr>\n",
       "    <tr>\n",
       "      <th>14512</th>\n",
       "      <td>3</td>\n",
       "      <td>0</td>\n",
       "      <td>False</td>\n",
       "      <td>(4.5, 4.75]</td>\n",
       "      <td>U</td>\n",
       "      <td>29.290374</td>\n",
       "      <td>32.412415</td>\n",
       "    </tr>\n",
       "    <tr>\n",
       "      <th>4276</th>\n",
       "      <td>2</td>\n",
       "      <td>1</td>\n",
       "      <td>False</td>\n",
       "      <td>(4.5, 4.75]</td>\n",
       "      <td>U</td>\n",
       "      <td>28.525507</td>\n",
       "      <td>32.412415</td>\n",
       "    </tr>\n",
       "    <tr>\n",
       "      <th>7490</th>\n",
       "      <td>4</td>\n",
       "      <td>1</td>\n",
       "      <td>False</td>\n",
       "      <td>(4.75, 5.0]</td>\n",
       "      <td>S</td>\n",
       "      <td>23.836401</td>\n",
       "      <td>28.914831</td>\n",
       "    </tr>\n",
       "  </tbody>\n",
       "</table>\n",
       "</div>"
      ],
      "text/plain": [
       "       ROUTE_ID  DAY_OF_WEEK  HELPER range_avg_wt_of_case URBANITY  \\\n",
       "2454          7            1   False          (4.75, 5.0]        X   \n",
       "8723          5            6   False          (4.75, 5.0]        U   \n",
       "14512         3            0   False          (4.5, 4.75]        U   \n",
       "4276          2            1   False          (4.5, 4.75]        U   \n",
       "7490          4            1   False          (4.75, 5.0]        S   \n",
       "\n",
       "       actual_UNLOAD_TIME  predicted_UNLOAD_TIME  \n",
       "2454            23.744685              22.174187  \n",
       "8723            36.655240              36.314472  \n",
       "14512           29.290374              32.412415  \n",
       "4276            28.525507              32.412415  \n",
       "7490            23.836401              28.914831  "
      ]
     },
     "execution_count": 81,
     "metadata": {},
     "output_type": "execute_result"
    }
   ],
   "source": [
    "df_test_data_report.head()"
   ]
  },
  {
   "cell_type": "code",
   "execution_count": 82,
   "id": "f13ab6c4-26ea-4704-bfb0-5da3a49d0092",
   "metadata": {},
   "outputs": [
    {
     "data": {
      "text/html": [
       "<div>\n",
       "<style scoped>\n",
       "    .dataframe tbody tr th:only-of-type {\n",
       "        vertical-align: middle;\n",
       "    }\n",
       "\n",
       "    .dataframe tbody tr th {\n",
       "        vertical-align: top;\n",
       "    }\n",
       "\n",
       "    .dataframe thead th {\n",
       "        text-align: right;\n",
       "    }\n",
       "</style>\n",
       "<table border=\"1\" class=\"dataframe\">\n",
       "  <thead>\n",
       "    <tr style=\"text-align: right;\">\n",
       "      <th></th>\n",
       "      <th>ROUTE_ID</th>\n",
       "      <th>DAY_OF_WEEK</th>\n",
       "      <th>HELPER</th>\n",
       "      <th>range_avg_wt_of_case</th>\n",
       "      <th>URBANITY</th>\n",
       "      <th>actual_UNLOAD_TIME</th>\n",
       "      <th>predicted_UNLOAD_TIME</th>\n",
       "    </tr>\n",
       "  </thead>\n",
       "  <tbody>\n",
       "    <tr>\n",
       "      <th>0</th>\n",
       "      <td>7</td>\n",
       "      <td>1</td>\n",
       "      <td>False</td>\n",
       "      <td>(4.75, 5.0]</td>\n",
       "      <td>X</td>\n",
       "      <td>23.744685</td>\n",
       "      <td>22.174187</td>\n",
       "    </tr>\n",
       "    <tr>\n",
       "      <th>1</th>\n",
       "      <td>5</td>\n",
       "      <td>6</td>\n",
       "      <td>False</td>\n",
       "      <td>(4.75, 5.0]</td>\n",
       "      <td>U</td>\n",
       "      <td>36.655240</td>\n",
       "      <td>36.314472</td>\n",
       "    </tr>\n",
       "    <tr>\n",
       "      <th>2</th>\n",
       "      <td>3</td>\n",
       "      <td>0</td>\n",
       "      <td>False</td>\n",
       "      <td>(4.5, 4.75]</td>\n",
       "      <td>U</td>\n",
       "      <td>29.290374</td>\n",
       "      <td>32.412415</td>\n",
       "    </tr>\n",
       "    <tr>\n",
       "      <th>3</th>\n",
       "      <td>2</td>\n",
       "      <td>1</td>\n",
       "      <td>False</td>\n",
       "      <td>(4.5, 4.75]</td>\n",
       "      <td>U</td>\n",
       "      <td>28.525507</td>\n",
       "      <td>32.412415</td>\n",
       "    </tr>\n",
       "    <tr>\n",
       "      <th>4</th>\n",
       "      <td>4</td>\n",
       "      <td>1</td>\n",
       "      <td>False</td>\n",
       "      <td>(4.75, 5.0]</td>\n",
       "      <td>S</td>\n",
       "      <td>23.836401</td>\n",
       "      <td>28.914831</td>\n",
       "    </tr>\n",
       "  </tbody>\n",
       "</table>\n",
       "</div>"
      ],
      "text/plain": [
       "   ROUTE_ID  DAY_OF_WEEK  HELPER range_avg_wt_of_case URBANITY  \\\n",
       "0         7            1   False          (4.75, 5.0]        X   \n",
       "1         5            6   False          (4.75, 5.0]        U   \n",
       "2         3            0   False          (4.5, 4.75]        U   \n",
       "3         2            1   False          (4.5, 4.75]        U   \n",
       "4         4            1   False          (4.75, 5.0]        S   \n",
       "\n",
       "   actual_UNLOAD_TIME  predicted_UNLOAD_TIME  \n",
       "0           23.744685              22.174187  \n",
       "1           36.655240              36.314472  \n",
       "2           29.290374              32.412415  \n",
       "3           28.525507              32.412415  \n",
       "4           23.836401              28.914831  "
      ]
     },
     "execution_count": 82,
     "metadata": {},
     "output_type": "execute_result"
    }
   ],
   "source": [
    "df_test_data_report = df_test_data_report.reset_index(drop=True)\n",
    "df_test_data_report.head()"
   ]
  },
  {
   "cell_type": "code",
   "execution_count": 83,
   "id": "f0154ddc-961a-41b2-b46b-2d36db997c3f",
   "metadata": {},
   "outputs": [],
   "source": [
    "def error_fn(act, pred):\n",
    "    return np.sqrt( mean_squared_log_error(act, pred))"
   ]
  },
  {
   "cell_type": "code",
   "execution_count": 84,
   "id": "251dba8f-81f0-46fa-a9a0-592c5f8ba158",
   "metadata": {},
   "outputs": [
    {
     "data": {
      "text/plain": [
       "URBANITY\n",
       "S    0.212841\n",
       "U    0.218871\n",
       "X    0.223119\n",
       "dtype: float64"
      ]
     },
     "execution_count": 84,
     "metadata": {},
     "output_type": "execute_result"
    }
   ],
   "source": [
    "df_test_data_report.groupby('URBANITY').apply(lambda x: error_fn(x['actual_UNLOAD_TIME'], x['predicted_UNLOAD_TIME']))"
   ]
  },
  {
   "cell_type": "code",
   "execution_count": 85,
   "id": "dee801c8-416b-4d01-a015-53c94329059f",
   "metadata": {},
   "outputs": [
    {
     "data": {
      "text/plain": [
       "range_avg_wt_of_case\n",
       "(3.749, 4.0]    0.362361\n",
       "(4.0, 4.25]     0.091924\n",
       "(4.25, 4.5]     0.191933\n",
       "(4.5, 4.75]     0.219113\n",
       "(4.75, 5.0]     0.216961\n",
       "dtype: float64"
      ]
     },
     "execution_count": 85,
     "metadata": {},
     "output_type": "execute_result"
    }
   ],
   "source": [
    "df_test_data_report.groupby('range_avg_wt_of_case').apply(lambda x: error_fn(x['actual_UNLOAD_TIME'], x['predicted_UNLOAD_TIME']))"
   ]
  },
  {
   "cell_type": "code",
   "execution_count": 86,
   "id": "b3e31f43-c7cb-4d8c-b9ea-95a16f85fd82",
   "metadata": {},
   "outputs": [
    {
     "data": {
      "text/plain": [
       "HELPER  range_avg_wt_of_case\n",
       "False   (3.749, 4.0]            0.449593\n",
       "        (4.0, 4.25]             0.091924\n",
       "        (4.25, 4.5]             0.188621\n",
       "        (4.5, 4.75]             0.221825\n",
       "        (4.75, 5.0]             0.217857\n",
       "True    (3.749, 4.0]            0.245922\n",
       "        (4.25, 4.5]             0.250984\n",
       "        (4.5, 4.75]             0.191206\n",
       "        (4.75, 5.0]             0.208572\n",
       "dtype: float64"
      ]
     },
     "execution_count": 86,
     "metadata": {},
     "output_type": "execute_result"
    }
   ],
   "source": [
    "df_test_data_report.groupby(['HELPER','range_avg_wt_of_case']).apply(lambda x: error_fn(x['actual_UNLOAD_TIME'], x['predicted_UNLOAD_TIME']))"
   ]
  },
  {
   "cell_type": "code",
   "execution_count": 87,
   "id": "d7b49de5-ef60-459d-a1b7-25e8475faaff",
   "metadata": {},
   "outputs": [
    {
     "data": {
      "text/plain": [
       "DAY_OF_WEEK\n",
       "0    0.204930\n",
       "1    0.225405\n",
       "2    0.216463\n",
       "3    0.209215\n",
       "4    0.217346\n",
       "5    0.222500\n",
       "6    0.222404\n",
       "dtype: float64"
      ]
     },
     "execution_count": 87,
     "metadata": {},
     "output_type": "execute_result"
    }
   ],
   "source": [
    "df_test_data_report.groupby('DAY_OF_WEEK').apply(lambda x: error_fn(x['actual_UNLOAD_TIME'], x['predicted_UNLOAD_TIME']))"
   ]
  },
  {
   "cell_type": "code",
   "execution_count": 88,
   "id": "8407eb01-212c-45c5-b44d-11c932b35dc7",
   "metadata": {},
   "outputs": [
    {
     "data": {
      "text/plain": [
       "ROUTE_ID\n",
       "1    0.225130\n",
       "2    0.210055\n",
       "3    0.206313\n",
       "4    0.217845\n",
       "5    0.224080\n",
       "6    0.232540\n",
       "7    0.204073\n",
       "8    0.215739\n",
       "9    0.190808\n",
       "dtype: float64"
      ]
     },
     "execution_count": 88,
     "metadata": {},
     "output_type": "execute_result"
    }
   ],
   "source": [
    "df_test_data_report.groupby('ROUTE_ID').apply(lambda x: error_fn(x['actual_UNLOAD_TIME'], x['predicted_UNLOAD_TIME']))"
   ]
  },
  {
   "cell_type": "markdown",
   "id": "0b9e2377-6d3a-4bd4-90fc-4f44f8ccaea7",
   "metadata": {},
   "source": [
    "## Other models experiment"
   ]
  },
  {
   "cell_type": "code",
   "execution_count": 90,
   "id": "e5d7b2f7-85c2-4ca0-a621-e8ce0ea1ae3d",
   "metadata": {},
   "outputs": [
    {
     "name": "stdout",
     "output_type": "stream",
     "text": [
      "The score is 0.26840\n"
     ]
    }
   ],
   "source": [
    "from sklearn.linear_model import LinearRegression\n",
    "\n",
    "\n",
    "LR = LinearRegression().fit(X_train_encoded, y_train)\n",
    "\n",
    "\n",
    "predictions_LR = LR.predict(X_test_encoded)\n",
    "\n",
    "RMSLE_LR = np.sqrt( mean_squared_log_error(y_test, predictions_LR) )\n",
    "print(\"The score is %.5f\" % RMSLE_LR )"
   ]
  },
  {
   "cell_type": "code",
   "execution_count": 94,
   "id": "364e4045-f3ec-47f7-b32e-943fb0ebba7f",
   "metadata": {},
   "outputs": [
    {
     "name": "stderr",
     "output_type": "stream",
     "text": [
      "/var/folders/1v/r51qd_7n69zc85cfv183jxmw0000gn/T/ipykernel_3704/4205754115.py:5: DataConversionWarning: A column-vector y was passed when a 1d array was expected. Please change the shape of y to (n_samples,), for example using ravel().\n",
      "  rf_regr.fit(X_train_encoded, y_train)\n"
     ]
    },
    {
     "name": "stdout",
     "output_type": "stream",
     "text": [
      "The score is 0.25445\n"
     ]
    }
   ],
   "source": [
    "from sklearn.ensemble import RandomForestRegressor\n",
    "\n",
    "rf_regr = RandomForestRegressor(max_depth=2, random_state=0)\n",
    "\n",
    "rf_regr.fit(X_train_encoded, y_train)\n",
    "\n",
    "\n",
    "predictions_rf = rf_regr.predict(X_test_encoded)\n",
    "\n",
    "RMSLE_rf = np.sqrt( mean_squared_log_error(y_test, predictions_rf) )\n",
    "print(\"The score is %.5f\" % RMSLE_rf )\n"
   ]
  },
  {
   "cell_type": "code",
   "execution_count": null,
   "id": "f8bbf8f8-315b-4f89-8538-59b318a8b10c",
   "metadata": {},
   "outputs": [],
   "source": []
  },
  {
   "cell_type": "code",
   "execution_count": null,
   "id": "431dbf57-fa83-4497-b5f7-4f9c12158483",
   "metadata": {},
   "outputs": [],
   "source": []
  },
  {
   "cell_type": "code",
   "execution_count": null,
   "id": "4b70066a-f7c2-4e98-b08e-e6d7098af3ae",
   "metadata": {},
   "outputs": [],
   "source": []
  },
  {
   "cell_type": "code",
   "execution_count": null,
   "id": "4cafa94c-a2c8-40bd-a745-8f1807e7489f",
   "metadata": {},
   "outputs": [],
   "source": []
  },
  {
   "cell_type": "code",
   "execution_count": null,
   "id": "380828eb-8106-4176-ae6a-5fabeae94f0a",
   "metadata": {},
   "outputs": [],
   "source": []
  },
  {
   "cell_type": "code",
   "execution_count": null,
   "id": "7dd73219-2811-4905-ae82-ab1246814b00",
   "metadata": {},
   "outputs": [],
   "source": []
  }
 ],
 "metadata": {
  "kernelspec": {
   "display_name": "Python 3 (ipykernel)",
   "language": "python",
   "name": "python3"
  },
  "language_info": {
   "codemirror_mode": {
    "name": "ipython",
    "version": 3
   },
   "file_extension": ".py",
   "mimetype": "text/x-python",
   "name": "python",
   "nbconvert_exporter": "python",
   "pygments_lexer": "ipython3",
   "version": "3.8.12"
  }
 },
 "nbformat": 4,
 "nbformat_minor": 5
}
